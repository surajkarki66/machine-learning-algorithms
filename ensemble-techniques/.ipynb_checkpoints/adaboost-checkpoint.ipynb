{
 "cells": [
  {
   "cell_type": "markdown",
   "id": "c90f7446-bf35-4b4c-afa0-1482eee82b06",
   "metadata": {},
   "source": [
    "# AdaBoost Classifier\n",
    "\n",
    "Ada-boost or Adaptive Boosting is one of ensemble boosting classifier proposed by Yoav Freund and Robert Schapire in 1996. It combines multiple classifiers to increase the accuracy of classifiers. AdaBoost is an iterative ensemble method. AdaBoost classifier builds a strong classifier by combining multiple poorly performing classifiers so that you will get high accuracy strong classifier. The basic concept behind Adaboost is to set the weights of classifiers and training the data sample in each iteration such that it ensures the accurate predictions of unusual observations. Any machine learning algorithm can be used as base classifier if it accepts weights on the training set. Adaboost should meet two conditions:\n",
    "\n",
    "- The classifier should be trained interactively on various weighed training examples.\n",
    "- In each iteration, it tries to provide an excellent fit for these examples by minimizing training error.\n"
   ]
  },
  {
   "cell_type": "markdown",
   "id": "a41acffb-c9bb-49e5-a3fd-ffaeec2c8925",
   "metadata": {},
   "source": [
    "# Step-1 Load Libraries"
   ]
  },
  {
   "cell_type": "code",
   "execution_count": 5,
   "id": "0cdf1427-0061-4173-8864-bc26cc15b0aa",
   "metadata": {},
   "outputs": [],
   "source": [
    "from sklearn.ensemble import AdaBoostClassifier\n",
    "from sklearn import datasets\n",
    "from sklearn.model_selection import train_test_split\n",
    "from sklearn import metrics"
   ]
  },
  {
   "cell_type": "markdown",
   "id": "e409226e-e565-4748-ab6e-1a0253d75500",
   "metadata": {},
   "source": [
    "# Step-2 Load data\n"
   ]
  },
  {
   "cell_type": "code",
   "execution_count": 6,
   "id": "d602e008-dab9-4a32-af94-5d7ea267f4f7",
   "metadata": {},
   "outputs": [],
   "source": [
    "iris = datasets.load_iris()\n",
    "X = iris.data\n",
    "y = iris.target"
   ]
  },
  {
   "cell_type": "markdown",
   "id": "66dad3b6-6f27-4866-965c-8c6b58c61620",
   "metadata": {},
   "source": [
    "# Step-3 Split dataset"
   ]
  },
  {
   "cell_type": "code",
   "execution_count": 7,
   "id": "877cd2b3-b9a9-491d-a748-74da23c706ca",
   "metadata": {},
   "outputs": [],
   "source": [
    "X_train, X_test, y_train, y_test = train_test_split(X, y, test_size=0.3)"
   ]
  },
  {
   "cell_type": "markdown",
   "id": "b6cb9da0-e7c7-4d23-bc18-965d18b01808",
   "metadata": {},
   "source": [
    "# Step-4 Building the AdaBoost Model"
   ]
  },
  {
   "cell_type": "code",
   "execution_count": 8,
   "id": "96939a96-3f37-4b44-8b00-182873a680e7",
   "metadata": {},
   "outputs": [
    {
     "data": {
      "text/plain": [
       "AdaBoostClassifier(learning_rate=1)"
      ]
     },
     "execution_count": 8,
     "metadata": {},
     "output_type": "execute_result"
    }
   ],
   "source": [
    "model = AdaBoostClassifier(n_estimators=50,\n",
    "                         learning_rate=1)\n",
    "model.fit(X_train, y_train)\n"
   ]
  },
  {
   "cell_type": "code",
   "execution_count": 9,
   "id": "29c43935-18ab-4c08-942f-0112f5a83b3d",
   "metadata": {},
   "outputs": [],
   "source": [
    "y_pred = model.predict(X_test)"
   ]
  },
  {
   "cell_type": "code",
   "execution_count": 10,
   "id": "5e289b16-4437-4f99-958f-f9054f85bc66",
   "metadata": {},
   "outputs": [
    {
     "name": "stdout",
     "output_type": "stream",
     "text": [
      "Accuracy: 0.9111111111111111\n"
     ]
    }
   ],
   "source": [
    "print(\"Accuracy:\",metrics.accuracy_score(y_test, y_pred))"
   ]
  },
  {
   "cell_type": "markdown",
   "id": "ec5fb785-3380-43fb-bf62-e9c6bc1fcfab",
   "metadata": {},
   "source": [
    "# Using Different Base Learners\n",
    "\n",
    "I have used SVC as a base estimator. You can use any ML learner as base estimator if it accepts sample weight such as Decision Tree, Support Vector Classifier."
   ]
  },
  {
   "cell_type": "code",
   "execution_count": 11,
   "id": "c6430c33-650c-4468-931c-791c0e4f6960",
   "metadata": {},
   "outputs": [],
   "source": [
    "from sklearn.svm import SVC"
   ]
  },
  {
   "cell_type": "code",
   "execution_count": 12,
   "id": "cee4cb95-e5a5-4938-8747-b264a264494f",
   "metadata": {},
   "outputs": [],
   "source": [
    "svc=SVC(probability=True, kernel='linear')"
   ]
  },
  {
   "cell_type": "code",
   "execution_count": 13,
   "id": "3f7f5668-1806-4c92-aae3-374c02493dd8",
   "metadata": {},
   "outputs": [],
   "source": [
    "model =AdaBoostClassifier(n_estimators=50, base_estimator=svc,learning_rate=1)"
   ]
  },
  {
   "cell_type": "code",
   "execution_count": 14,
   "id": "991a5a19-869b-491b-9f52-82dc3d744c44",
   "metadata": {},
   "outputs": [
    {
     "data": {
      "text/plain": [
       "AdaBoostClassifier(base_estimator=SVC(kernel='linear', probability=True),\n",
       "                   learning_rate=1)"
      ]
     },
     "execution_count": 14,
     "metadata": {},
     "output_type": "execute_result"
    }
   ],
   "source": [
    "model.fit(X_train, y_train)"
   ]
  },
  {
   "cell_type": "code",
   "execution_count": 15,
   "id": "30ae9940-1f28-4dc2-8f48-2a06dc8159f9",
   "metadata": {},
   "outputs": [],
   "source": [
    "y_pred = model.predict(X_test)"
   ]
  },
  {
   "cell_type": "code",
   "execution_count": 16,
   "id": "c13d746f-4c12-492c-9855-b3609b7e9e4c",
   "metadata": {},
   "outputs": [
    {
     "name": "stdout",
     "output_type": "stream",
     "text": [
      "Accuracy: 0.8888888888888888\n"
     ]
    }
   ],
   "source": [
    "print(\"Accuracy:\",metrics.accuracy_score(y_test, y_pred))"
   ]
  },
  {
   "cell_type": "code",
   "execution_count": null,
   "id": "16a6c3ad-b195-4506-aaaf-a0f988c765d5",
   "metadata": {},
   "outputs": [],
   "source": []
  }
 ],
 "metadata": {
  "kernelspec": {
   "display_name": "Python 3 (ipykernel)",
   "language": "python",
   "name": "python3"
  },
  "language_info": {
   "codemirror_mode": {
    "name": "ipython",
    "version": 3
   },
   "file_extension": ".py",
   "mimetype": "text/x-python",
   "name": "python",
   "nbconvert_exporter": "python",
   "pygments_lexer": "ipython3",
   "version": "3.9.7"
  }
 },
 "nbformat": 4,
 "nbformat_minor": 5
}
